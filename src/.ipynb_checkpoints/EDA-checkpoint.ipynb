{
 "cells": [
  {
   "cell_type": "code",
   "execution_count": 1,
   "metadata": {
    "collapsed": true
   },
   "outputs": [],
   "source": [
    "import pandas as pd\n",
    "import matplotlib.pyplot as plt"
   ]
  },
  {
   "cell_type": "code",
   "execution_count": 2,
   "metadata": {
    "collapsed": true
   },
   "outputs": [],
   "source": [
    "df = pd.read_csv(\"../webCrawler/output/team.csv\")"
   ]
  },
  {
   "cell_type": "code",
   "execution_count": 13,
   "metadata": {
    "collapsed": false
   },
   "outputs": [
    {
     "data": {
      "text/html": [
       "<div>\n",
       "<table border=\"1\" class=\"dataframe\">\n",
       "  <thead>\n",
       "    <tr style=\"text-align: right;\">\n",
       "      <th></th>\n",
       "      <th>名次</th>\n",
       "      <th>战队</th>\n",
       "      <th>KDA</th>\n",
       "      <th>场均击杀</th>\n",
       "      <th>场均死亡</th>\n",
       "      <th>每分钟伤害</th>\n",
       "      <th>一血率</th>\n",
       "      <th>场均时长</th>\n",
       "      <th>场均经济</th>\n",
       "      <th>每分钟经济</th>\n",
       "      <th>...</th>\n",
       "      <th>小龙控制率</th>\n",
       "      <th>场均大龙</th>\n",
       "      <th>大龙控制率</th>\n",
       "      <th>每分钟插眼</th>\n",
       "      <th>每分钟排眼</th>\n",
       "      <th>排眼效率</th>\n",
       "      <th>场均推塔数</th>\n",
       "      <th>场均被推塔数</th>\n",
       "      <th>year</th>\n",
       "      <th>Season</th>\n",
       "    </tr>\n",
       "  </thead>\n",
       "  <tbody>\n",
       "    <tr>\n",
       "      <th>0</th>\n",
       "      <td>1</td>\n",
       "      <td>GIA</td>\n",
       "      <td>3.2</td>\n",
       "      <td>19.7</td>\n",
       "      <td>18.4</td>\n",
       "      <td>2100</td>\n",
       "      <td>64.3%</td>\n",
       "      <td>37:37</td>\n",
       "      <td>64622</td>\n",
       "      <td>1717</td>\n",
       "      <td>...</td>\n",
       "      <td>62.1%</td>\n",
       "      <td>0.6</td>\n",
       "      <td>47.1%</td>\n",
       "      <td>2.44</td>\n",
       "      <td>0.80</td>\n",
       "      <td>29.9%</td>\n",
       "      <td>7.6</td>\n",
       "      <td>5.6</td>\n",
       "      <td>2014</td>\n",
       "      <td>2015欧洲扩展赛</td>\n",
       "    </tr>\n",
       "    <tr>\n",
       "      <th>1</th>\n",
       "      <td>2</td>\n",
       "      <td>MIL</td>\n",
       "      <td>2.7</td>\n",
       "      <td>13.3</td>\n",
       "      <td>17.3</td>\n",
       "      <td>1759</td>\n",
       "      <td>33.3%</td>\n",
       "      <td>37:11</td>\n",
       "      <td>56339</td>\n",
       "      <td>1515</td>\n",
       "      <td>...</td>\n",
       "      <td>46.2%</td>\n",
       "      <td>0.7</td>\n",
       "      <td>50.0%</td>\n",
       "      <td>2.76</td>\n",
       "      <td>0.83</td>\n",
       "      <td>33.7%</td>\n",
       "      <td>5.7</td>\n",
       "      <td>7.7</td>\n",
       "      <td>2014</td>\n",
       "      <td>2015欧洲扩展赛</td>\n",
       "    </tr>\n",
       "    <tr>\n",
       "      <th>2</th>\n",
       "      <td>3</td>\n",
       "      <td>H2K</td>\n",
       "      <td>7.7</td>\n",
       "      <td>19.7</td>\n",
       "      <td>8.3</td>\n",
       "      <td>2190</td>\n",
       "      <td>71.4%</td>\n",
       "      <td>34:29</td>\n",
       "      <td>62258</td>\n",
       "      <td>1805</td>\n",
       "      <td>...</td>\n",
       "      <td>65.4%</td>\n",
       "      <td>0.9</td>\n",
       "      <td>100.0%</td>\n",
       "      <td>2.38</td>\n",
       "      <td>0.82</td>\n",
       "      <td>34.7%</td>\n",
       "      <td>9.0</td>\n",
       "      <td>2.6</td>\n",
       "      <td>2014</td>\n",
       "      <td>2015欧洲扩展赛</td>\n",
       "    </tr>\n",
       "    <tr>\n",
       "      <th>3</th>\n",
       "      <td>4</td>\n",
       "      <td>SKP</td>\n",
       "      <td>4.5</td>\n",
       "      <td>21.3</td>\n",
       "      <td>16.0</td>\n",
       "      <td>2270</td>\n",
       "      <td>100.0%</td>\n",
       "      <td>37:56</td>\n",
       "      <td>62077</td>\n",
       "      <td>1636</td>\n",
       "      <td>...</td>\n",
       "      <td>36.4%</td>\n",
       "      <td>0.7</td>\n",
       "      <td>50.0%</td>\n",
       "      <td>2.37</td>\n",
       "      <td>0.74</td>\n",
       "      <td>29.8%</td>\n",
       "      <td>6.0</td>\n",
       "      <td>7.3</td>\n",
       "      <td>2014</td>\n",
       "      <td>2015欧洲扩展赛</td>\n",
       "    </tr>\n",
       "    <tr>\n",
       "      <th>4</th>\n",
       "      <td>5</td>\n",
       "      <td>Reason Gaming</td>\n",
       "      <td>3.0</td>\n",
       "      <td>17.6</td>\n",
       "      <td>18.6</td>\n",
       "      <td>2083</td>\n",
       "      <td>42.9%</td>\n",
       "      <td>38:19</td>\n",
       "      <td>62447</td>\n",
       "      <td>1629</td>\n",
       "      <td>...</td>\n",
       "      <td>58.9%</td>\n",
       "      <td>0.6</td>\n",
       "      <td>56.2%</td>\n",
       "      <td>2.80</td>\n",
       "      <td>0.71</td>\n",
       "      <td>29.2%</td>\n",
       "      <td>6.9</td>\n",
       "      <td>6.1</td>\n",
       "      <td>2014</td>\n",
       "      <td>2015欧洲扩展赛</td>\n",
       "    </tr>\n",
       "  </tbody>\n",
       "</table>\n",
       "<p>5 rows × 22 columns</p>\n",
       "</div>"
      ],
      "text/plain": [
       "   名次              战队  KDA  场均击杀  场均死亡  每分钟伤害      一血率    场均时长   场均经济  每分钟经济  \\\n",
       "0   1             GIA  3.2  19.7  18.4   2100    64.3%   37:37  64622   1717   \n",
       "1   2             MIL  2.7  13.3  17.3   1759    33.3%   37:11  56339   1515   \n",
       "2   3             H2K  7.7  19.7   8.3   2190    71.4%   34:29  62258   1805   \n",
       "3   4             SKP  4.5  21.3  16.0   2270   100.0%   37:56  62077   1636   \n",
       "4   5   Reason Gaming  3.0  17.6  18.6   2083    42.9%   38:19  62447   1629   \n",
       "\n",
       "      ...       小龙控制率  场均大龙    大龙控制率  每分钟插眼 每分钟排眼    排眼效率  场均推塔数 场均被推塔数  year  \\\n",
       "0     ...       62.1%   0.6    47.1%   2.44  0.80   29.9%    7.6    5.6  2014   \n",
       "1     ...       46.2%   0.7    50.0%   2.76  0.83   33.7%    5.7    7.7  2014   \n",
       "2     ...       65.4%   0.9   100.0%   2.38  0.82   34.7%    9.0    2.6  2014   \n",
       "3     ...       36.4%   0.7    50.0%   2.37  0.74   29.8%    6.0    7.3  2014   \n",
       "4     ...       58.9%   0.6    56.2%   2.80  0.71   29.2%    6.9    6.1  2014   \n",
       "\n",
       "       Season  \n",
       "0   2015欧洲扩展赛  \n",
       "1   2015欧洲扩展赛  \n",
       "2   2015欧洲扩展赛  \n",
       "3   2015欧洲扩展赛  \n",
       "4   2015欧洲扩展赛  \n",
       "\n",
       "[5 rows x 22 columns]"
      ]
     },
     "execution_count": 13,
     "metadata": {},
     "output_type": "execute_result"
    }
   ],
   "source": [
    "df.head()"
   ]
  },
  {
   "cell_type": "code",
   "execution_count": 12,
   "metadata": {
    "collapsed": false,
    "scrolled": false
   },
   "outputs": [
    {
     "data": {
      "text/plain": [
       "KDA          3.339934\n",
       "场均击杀        12.576305\n",
       "场均死亡        13.664126\n",
       "每分钟伤害     1435.230323\n",
       "场均经济     57009.379453\n",
       "每分钟经济     1594.033969\n",
       "每分钟补刀       28.746976\n",
       "dtype: float64"
      ]
     },
     "execution_count": 12,
     "metadata": {},
     "output_type": "execute_result"
    }
   ],
   "source": [
    "df_attack = df.ix[:,2:11]\n",
    "df_attack.mean()"
   ]
  },
  {
   "cell_type": "code",
   "execution_count": 15,
   "metadata": {
    "collapsed": false
   },
   "outputs": [
    {
     "ename": "UnicodeDecodeError",
     "evalue": "'ascii' codec can't decode byte 0xe5 in position 0: ordinal not in range(128)",
     "output_type": "error",
     "traceback": [
      "\u001b[0;31m---------------------------------------------------------------------------\u001b[0m",
      "\u001b[0;31mUnicodeDecodeError\u001b[0m                        Traceback (most recent call last)",
      "\u001b[0;32m<ipython-input-15-d149b17c42ef>\u001b[0m in \u001b[0;36m<module>\u001b[0;34m()\u001b[0m\n\u001b[1;32m      1\u001b[0m \u001b[0mfig\u001b[0m\u001b[0;34m,\u001b[0m \u001b[0maxes\u001b[0m \u001b[0;34m=\u001b[0m \u001b[0mplt\u001b[0m\u001b[0;34m.\u001b[0m\u001b[0msubplots\u001b[0m\u001b[0;34m(\u001b[0m\u001b[0;36m1\u001b[0m\u001b[0;34m,\u001b[0m \u001b[0;36m3\u001b[0m\u001b[0;34m)\u001b[0m\u001b[0;34m\u001b[0m\u001b[0m\n\u001b[1;32m      2\u001b[0m \u001b[0mdf\u001b[0m\u001b[0;34m.\u001b[0m\u001b[0mhist\u001b[0m\u001b[0;34m(\u001b[0m\u001b[0;34m'KDA'\u001b[0m\u001b[0;34m,\u001b[0m\u001b[0max\u001b[0m \u001b[0;34m=\u001b[0m \u001b[0maxes\u001b[0m\u001b[0;34m[\u001b[0m\u001b[0;36m0\u001b[0m\u001b[0;34m]\u001b[0m\u001b[0;34m,\u001b[0m\u001b[0mnormed\u001b[0m\u001b[0;34m=\u001b[0m\u001b[0mTrue\u001b[0m\u001b[0;34m)\u001b[0m\u001b[0;34m\u001b[0m\u001b[0m\n\u001b[0;32m----> 3\u001b[0;31m \u001b[0mdf\u001b[0m\u001b[0;34m.\u001b[0m\u001b[0mhist\u001b[0m\u001b[0;34m(\u001b[0m\u001b[0;34m'场均击杀'\u001b[0m\u001b[0;34m,\u001b[0m\u001b[0max\u001b[0m \u001b[0;34m=\u001b[0m \u001b[0maxes\u001b[0m\u001b[0;34m[\u001b[0m\u001b[0;36m1\u001b[0m\u001b[0;34m]\u001b[0m\u001b[0;34m,\u001b[0m\u001b[0mnormed\u001b[0m\u001b[0;34m=\u001b[0m\u001b[0mTrue\u001b[0m\u001b[0;34m)\u001b[0m\u001b[0;34m\u001b[0m\u001b[0m\n\u001b[0m\u001b[1;32m      4\u001b[0m \u001b[0mdf\u001b[0m\u001b[0;34m.\u001b[0m\u001b[0mhist\u001b[0m\u001b[0;34m(\u001b[0m\u001b[0;34m'场均死亡'\u001b[0m\u001b[0;34m,\u001b[0m\u001b[0max\u001b[0m \u001b[0;34m=\u001b[0m \u001b[0maxes\u001b[0m\u001b[0;34m[\u001b[0m\u001b[0;36m1\u001b[0m\u001b[0;34m]\u001b[0m\u001b[0;34m,\u001b[0m\u001b[0mnormed\u001b[0m\u001b[0;34m=\u001b[0m\u001b[0mTrue\u001b[0m\u001b[0;34m)\u001b[0m\u001b[0;34m\u001b[0m\u001b[0m\n\u001b[1;32m      5\u001b[0m \u001b[0mplt\u001b[0m\u001b[0;34m.\u001b[0m\u001b[0mshow\u001b[0m\u001b[0;34m(\u001b[0m\u001b[0;34m)\u001b[0m\u001b[0;34m\u001b[0m\u001b[0m\n",
      "\u001b[0;32m/Users/Summer/Library/Enthought/Canopy_64bit/User/lib/python2.7/site-packages/pandas/tools/plotting.pyc\u001b[0m in \u001b[0;36mhist_frame\u001b[0;34m(data, column, by, grid, xlabelsize, xrot, ylabelsize, yrot, ax, sharex, sharey, figsize, layout, bins, **kwds)\u001b[0m\n\u001b[1;32m   2894\u001b[0m         \u001b[0max\u001b[0m \u001b[0;34m=\u001b[0m \u001b[0m_axes\u001b[0m\u001b[0;34m[\u001b[0m\u001b[0mi\u001b[0m\u001b[0;34m]\u001b[0m\u001b[0;34m\u001b[0m\u001b[0m\n\u001b[1;32m   2895\u001b[0m         \u001b[0max\u001b[0m\u001b[0;34m.\u001b[0m\u001b[0mhist\u001b[0m\u001b[0;34m(\u001b[0m\u001b[0mdata\u001b[0m\u001b[0;34m[\u001b[0m\u001b[0mcol\u001b[0m\u001b[0;34m]\u001b[0m\u001b[0;34m.\u001b[0m\u001b[0mdropna\u001b[0m\u001b[0;34m(\u001b[0m\u001b[0;34m)\u001b[0m\u001b[0;34m.\u001b[0m\u001b[0mvalues\u001b[0m\u001b[0;34m,\u001b[0m \u001b[0mbins\u001b[0m\u001b[0;34m=\u001b[0m\u001b[0mbins\u001b[0m\u001b[0;34m,\u001b[0m \u001b[0;34m**\u001b[0m\u001b[0mkwds\u001b[0m\u001b[0;34m)\u001b[0m\u001b[0;34m\u001b[0m\u001b[0m\n\u001b[0;32m-> 2896\u001b[0;31m         \u001b[0max\u001b[0m\u001b[0;34m.\u001b[0m\u001b[0mset_title\u001b[0m\u001b[0;34m(\u001b[0m\u001b[0mcol\u001b[0m\u001b[0;34m)\u001b[0m\u001b[0;34m\u001b[0m\u001b[0m\n\u001b[0m\u001b[1;32m   2897\u001b[0m         \u001b[0max\u001b[0m\u001b[0;34m.\u001b[0m\u001b[0mgrid\u001b[0m\u001b[0;34m(\u001b[0m\u001b[0mgrid\u001b[0m\u001b[0;34m)\u001b[0m\u001b[0;34m\u001b[0m\u001b[0m\n\u001b[1;32m   2898\u001b[0m \u001b[0;34m\u001b[0m\u001b[0m\n",
      "\u001b[0;32m/Users/Summer/Library/Enthought/Canopy_64bit/User/lib/python2.7/site-packages/matplotlib/axes/_axes.pyc\u001b[0m in \u001b[0;36mset_title\u001b[0;34m(self, label, fontdict, loc, **kwargs)\u001b[0m\n\u001b[1;32m    170\u001b[0m             \u001b[0;34m'verticalalignment'\u001b[0m\u001b[0;34m:\u001b[0m \u001b[0;34m'baseline'\u001b[0m\u001b[0;34m,\u001b[0m\u001b[0;34m\u001b[0m\u001b[0m\n\u001b[1;32m    171\u001b[0m             'horizontalalignment': loc.lower()}\n\u001b[0;32m--> 172\u001b[0;31m         \u001b[0mtitle\u001b[0m\u001b[0;34m.\u001b[0m\u001b[0mset_text\u001b[0m\u001b[0;34m(\u001b[0m\u001b[0mlabel\u001b[0m\u001b[0;34m)\u001b[0m\u001b[0;34m\u001b[0m\u001b[0m\n\u001b[0m\u001b[1;32m    173\u001b[0m         \u001b[0mtitle\u001b[0m\u001b[0;34m.\u001b[0m\u001b[0mupdate\u001b[0m\u001b[0;34m(\u001b[0m\u001b[0mdefault\u001b[0m\u001b[0;34m)\u001b[0m\u001b[0;34m\u001b[0m\u001b[0m\n\u001b[1;32m    174\u001b[0m         \u001b[0;32mif\u001b[0m \u001b[0mfontdict\u001b[0m \u001b[0;32mis\u001b[0m \u001b[0;32mnot\u001b[0m \u001b[0mNone\u001b[0m\u001b[0;34m:\u001b[0m\u001b[0;34m\u001b[0m\u001b[0m\n",
      "\u001b[0;32m/Users/Summer/Library/Enthought/Canopy_64bit/User/lib/python2.7/site-packages/matplotlib/text.pyc\u001b[0m in \u001b[0;36mset_text\u001b[0;34m(self, s)\u001b[0m\n\u001b[1;32m   1204\u001b[0m         \u001b[0mACCEPTS\u001b[0m\u001b[0;34m:\u001b[0m \u001b[0mstring\u001b[0m \u001b[0;32mor\u001b[0m \u001b[0manything\u001b[0m \u001b[0mprintable\u001b[0m \u001b[0;32mwith\u001b[0m \u001b[0;34m'%s'\u001b[0m \u001b[0mconversion\u001b[0m\u001b[0;34m.\u001b[0m\u001b[0;34m\u001b[0m\u001b[0m\n\u001b[1;32m   1205\u001b[0m         \"\"\"\n\u001b[0;32m-> 1206\u001b[0;31m         \u001b[0mself\u001b[0m\u001b[0;34m.\u001b[0m\u001b[0m_text\u001b[0m \u001b[0;34m=\u001b[0m \u001b[0;34m'%s'\u001b[0m \u001b[0;34m%\u001b[0m \u001b[0;34m(\u001b[0m\u001b[0ms\u001b[0m\u001b[0;34m,\u001b[0m\u001b[0;34m)\u001b[0m\u001b[0;34m\u001b[0m\u001b[0m\n\u001b[0m\u001b[1;32m   1207\u001b[0m         \u001b[0mself\u001b[0m\u001b[0;34m.\u001b[0m\u001b[0mstale\u001b[0m \u001b[0;34m=\u001b[0m \u001b[0mTrue\u001b[0m\u001b[0;34m\u001b[0m\u001b[0m\n\u001b[1;32m   1208\u001b[0m \u001b[0;34m\u001b[0m\u001b[0m\n",
      "\u001b[0;31mUnicodeDecodeError\u001b[0m: 'ascii' codec can't decode byte 0xe5 in position 0: ordinal not in range(128)"
     ]
    }
   ],
   "source": [
    "fig, axes = plt.subplots(1, 3)\n",
    "df.hist('KDA',ax = axes[0],normed=True)\n",
    "df.hist('场均击杀',ax = axes[1],normed=True)\n",
    "df.hist('场均死亡',ax = axes[1],normed=True)\n",
    "plt.show()"
   ]
  },
  {
   "cell_type": "code",
   "execution_count": null,
   "metadata": {
    "collapsed": true
   },
   "outputs": [],
   "source": []
  }
 ],
 "metadata": {
  "kernelspec": {
   "display_name": "Python 2",
   "language": "python",
   "name": "python2"
  },
  "language_info": {
   "codemirror_mode": {
    "name": "ipython",
    "version": 2
   },
   "file_extension": ".py",
   "mimetype": "text/x-python",
   "name": "python",
   "nbconvert_exporter": "python",
   "pygments_lexer": "ipython2",
   "version": "2.7.11"
  }
 },
 "nbformat": 4,
 "nbformat_minor": 0
}
